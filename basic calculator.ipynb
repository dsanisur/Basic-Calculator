{
 "cells": [
  {
   "cell_type": "code",
   "execution_count": null,
   "id": "6d870b86",
   "metadata": {},
   "outputs": [],
   "source": []
  },
  {
   "cell_type": "code",
   "execution_count": 6,
   "id": "2ba8ecb3",
   "metadata": {},
   "outputs": [
    {
     "name": "stdout",
     "output_type": "stream",
     "text": [
      "********** Welcome to basic calculator **********\n",
      "\n",
      "\n",
      "Please enter your 1st number: 2\n",
      "Please enter your 2nd number: 6\n",
      "Enter 1 for 'Addition'\n",
      "Enter 2 for'Subtraction'\n",
      "Enter 3 for 'Multiplication'\n",
      "Enter 4 for 'Devition'\n",
      "Enter 5 for 'Exponential'\n",
      "Enter 6 for 'Modulus' \n",
      "Please chose your number 1 to 6: 4\n",
      "The Devition of your number :  0.3333333333333333\n"
     ]
    }
   ],
   "source": [
    "print(\"********** Welcome to basic calculator **********\")\n",
    "print(\"\\n\")\n",
    "\n",
    "Num_1= float(input(\"Please enter your 1st number: \"))\n",
    "Num_2= float(input(\"Please enter your 2nd number: \"))\n",
    "\n",
    "print(\"Enter 1 for 'Addition'\\nEnter 2 for'Subtraction'\\nEnter 3 for 'Multiplication'\\nEnter 4 for 'Devition'\\nEnter 5 for 'Exponential'\\nEnter 6 for 'Modulus' \")\n",
    "Entered_number=int(input(\"Please chose your number 1 to 6: \"))\n",
    "\n",
    "if Entered_number == 1:\n",
    "    print(\"The sumation of your number : \",Num_1 + Num_2)\n",
    "elif Entered_number == 2:\n",
    "    print(\"The subtraction of your number : \",Num_1 - Num_2)\n",
    "elif Entered_number == 3:\n",
    "    print(\"The Multiplication of your number : \",Num_1 * Num_2)\n",
    "elif Entered_number == 4:\n",
    "    print(\"The Devition of your number : \",Num_1 / Num_2)\n",
    "elif Entered_number == 5:\n",
    "    print(\"The Exponetial of your number : \",Num_1 ** Num_2)\n",
    "elif Entered_number == 6:\n",
    "    print(\"The Modulus of your number : \",Num_1 % Num_2)\n",
    "else:\n",
    "    print(\"Your chose number is invalid,Please tray agin,\\n\\n********** Thank you **********\")"
   ]
  },
  {
   "cell_type": "code",
   "execution_count": null,
   "id": "b7d29918",
   "metadata": {},
   "outputs": [],
   "source": []
  }
 ],
 "metadata": {
  "kernelspec": {
   "display_name": "Python 3",
   "language": "python",
   "name": "python3"
  },
  "language_info": {
   "codemirror_mode": {
    "name": "ipython",
    "version": 3
   },
   "file_extension": ".py",
   "mimetype": "text/x-python",
   "name": "python",
   "nbconvert_exporter": "python",
   "pygments_lexer": "ipython3",
   "version": "3.8.8"
  }
 },
 "nbformat": 4,
 "nbformat_minor": 5
}
